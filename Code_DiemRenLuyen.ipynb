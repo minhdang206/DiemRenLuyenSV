{
  "nbformat": 4,
  "nbformat_minor": 0,
  "metadata": {
    "colab": {
      "name": "Code_DiemRenLuyen.ipynb",
      "provenance": [],
      "collapsed_sections": [],
      "toc_visible": true,
      "authorship_tag": "ABX9TyPRvnsjjQEht2NJ6ddm6RHG",
      "include_colab_link": true
    },
    "kernelspec": {
      "name": "python3",
      "display_name": "Python 3"
    },
    "language_info": {
      "name": "python"
    }
  },
  "cells": [
    {
      "cell_type": "markdown",
      "metadata": {
        "id": "view-in-github",
        "colab_type": "text"
      },
      "source": [
        "<a href=\"https://colab.research.google.com/github/minhdang206/DiemRenLuyenSV/blob/main/Code_DiemRenLuyen.ipynb\" target=\"_parent\"><img src=\"https://colab.research.google.com/assets/colab-badge.svg\" alt=\"Open In Colab\"/></a>"
      ]
    },
    {
      "cell_type": "code",
      "metadata": {
        "id": "R-n75Y0R-m_6"
      },
      "source": [
        "!pip install gspread --upgrade\n",
        "from IPython.display import clear_output \n",
        "clear_output()\n",
        "# Chạy dòng này sẽ xuất hiện 1 link --> Click vào link đó để cấp quyền truy cập vào GG Drive \n",
        "# --> Copy đường link cấp quyền và dán vào ô phía dưới + Nhấn Enter \n",
        "from google.colab import auth\n",
        "auth.authenticate_user()\n",
        "import gspread\n",
        "from oauth2client.client import GoogleCredentials\n",
        "gc = gspread.authorize(GoogleCredentials.get_application_default())"
      ],
      "execution_count": 4,
      "outputs": []
    },
    {
      "cell_type": "code",
      "metadata": {
        "id": "fSh7ON46-sQX"
      },
      "source": [
        "import pandas as pd"
      ],
      "execution_count": null,
      "outputs": []
    },
    {
      "cell_type": "code",
      "metadata": {
        "id": "sHBocYww-ugh"
      },
      "source": [
        "wb = gc.open_by_url('https://docs.google.com/spreadsheets/d/18KIP2rKEnL4Hc30cyDxhDc1e0nDbbiWaAE32gX7JRRw/edit?usp=sharing')\n",
        "worksheet1 = wb.worksheet('Diem tu danh gia')\n",
        "worksheet2 = wb.worksheet('Xet diem ren luyen')\n",
        "worksheet3 = wb.worksheet('Tong hop')\n",
        "df_sheet1 = pd.DataFrame(worksheet1.get_all_records())\n",
        "\n"
      ],
      "execution_count": null,
      "outputs": []
    },
    {
      "cell_type": "markdown",
      "metadata": {
        "id": "aYPlTiAKGZYn"
      },
      "source": [
        "\n",
        "\n",
        "# Sheet2\n"
      ]
    },
    {
      "cell_type": "code",
      "metadata": {
        "colab": {
          "base_uri": "https://localhost:8080/"
        },
        "id": "I0zPoy8Q-yHB",
        "outputId": "f0a1c9cc-cd16-4839-e9e5-e642160e6ac5"
      },
      "source": [
        "list_students = df_sheet1['Name']\n",
        "list_students_id = df_sheet1['ID']\n",
        "dict_fill_col_sheet2 = {}\n",
        "for name_student,id_student in zip(list_students,list_students_id):\n",
        "  list_fomula = []\n",
        "  for index in list(range(3,54)):\n",
        "    list_fomula.append(\"=if(isna((match($A\"+str(index)+\";'Diem tu danh gia'!$C$1:$AG$1;0)));\"+'''\"'''+'''\"'''+\";index('Diem tu danh gia'!$C:$AG;match(\"+'''\"'''+str(id_student)+'''\"'''+\";'Diem tu danh gia'!$C:$C;0);match($A\"+str(index)+\";'Diem tu danh gia'!$C$1:$AG$1;0)))\")\n",
        "  list_col_2 = []\n",
        "  for i in list_fomula:\n",
        "    list_col_2.append('')\n",
        "  list_col_1 = ['Điểm sinh viên tự đánh giá']+list_fomula\n",
        "  dict_fill_col_sheet2[name_student] = list_col_1\n",
        "  dict_fill_col_sheet2[id_student] = ['Điểm tập thể đánh giá']+list_col_2\n",
        "df_sheet2 = pd.DataFrame.from_dict(dict_fill_col_sheet2)\n",
        "list_df = df_sheet2.to_numpy().tolist()\n",
        "header = df_sheet2.columns.tolist()\n",
        "header\n",
        "dataTowrite = [header] + list_df\n",
        "worksheet2 = wb.worksheet('Xet diem ren luyen')\n",
        "worksheet2.update(\"C1\",dataTowrite,raw = False)\n",
        "worksheet1.format('C:C', {\"numberFormat\": {\"type\": 'TEXT'}})\n"
      ],
      "execution_count": null,
      "outputs": [
        {
          "output_type": "execute_result",
          "data": {
            "text/plain": [
              "{'replies': [{}],\n",
              " 'spreadsheetId': '18KIP2rKEnL4Hc30cyDxhDc1e0nDbbiWaAE32gX7JRRw'}"
            ]
          },
          "metadata": {},
          "execution_count": 36
        }
      ]
    },
    {
      "cell_type": "code",
      "metadata": {
        "colab": {
          "base_uri": "https://localhost:8080/"
        },
        "id": "1vrf8p37-0N3",
        "outputId": "7407f5dc-3d26-44fd-8576-f77d884b0857"
      },
      "source": [
        ""
      ],
      "execution_count": null,
      "outputs": [
        {
          "output_type": "execute_result",
          "data": {
            "text/plain": [
              "{'replies': [{}],\n",
              " 'spreadsheetId': '18KIP2rKEnL4Hc30cyDxhDc1e0nDbbiWaAE32gX7JRRw'}"
            ]
          },
          "metadata": {},
          "execution_count": 5
        }
      ]
    },
    {
      "cell_type": "markdown",
      "metadata": {
        "id": "Z170K_ooGCA-"
      },
      "source": [
        "\n",
        "\n",
        "# Sheet3\n"
      ]
    },
    {
      "cell_type": "code",
      "metadata": {
        "colab": {
          "base_uri": "https://localhost:8080/"
        },
        "id": "MQHy_6JtHCLs",
        "outputId": "3e509623-1d11-4250-d781-7e9f05832328"
      },
      "source": [
        "df_sheet2 = pd.DataFrame(worksheet2.get_all_records())\n",
        "df_sheet2.drop(df_sheet2.columns[0], axis=1,inplace=True)\n",
        "list_point = []\n",
        "for col_index in list(range(int(len(df_sheet2.columns)))):\n",
        "  if col_index%2 != 0:\n",
        "    i = df_sheet2[df_sheet2.columns[col_index]][51]\n",
        "    list_point.append(i)\n",
        "  else:\n",
        "    continue\n",
        "list_point"
      ],
      "execution_count": null,
      "outputs": [
        {
          "output_type": "execute_result",
          "data": {
            "text/plain": [
              "[100, '']"
            ]
          },
          "metadata": {},
          "execution_count": 37
        }
      ]
    },
    {
      "cell_type": "code",
      "metadata": {
        "colab": {
          "base_uri": "https://localhost:8080/"
        },
        "id": "ANDPjrHNBMXr",
        "outputId": "b8eade38-df53-4562-c77c-fb6d4fe214b1"
      },
      "source": [
        "\n",
        "\n",
        "dict_fill_col = {}\n",
        "dict_fill_col['Họ và tên']=list_students\n",
        "dict_fill_col['Mã sinh viên']=list_students_id\n",
        "dict_fill_col['Điểm rèn luyện sau khi tập thể đánh giá']=list_point\n",
        "\n",
        "df_sheet3 =pd.DataFrame.from_dict(dict_fill_col)\n",
        "\n",
        "list_df = df_sheet3.to_numpy().tolist()\n",
        "header = df_sheet3.columns.tolist()\n",
        "dataTowrite = [header] + list_df\n",
        "worksheet3.update(\"A1\",dataTowrite)"
      ],
      "execution_count": null,
      "outputs": [
        {
          "output_type": "execute_result",
          "data": {
            "text/plain": [
              "{'spreadsheetId': '18KIP2rKEnL4Hc30cyDxhDc1e0nDbbiWaAE32gX7JRRw',\n",
              " 'updatedCells': 9,\n",
              " 'updatedColumns': 3,\n",
              " 'updatedRange': \"'Tong hop'!A1:C3\",\n",
              " 'updatedRows': 3}"
            ]
          },
          "metadata": {},
          "execution_count": 38
        }
      ]
    },
    {
      "cell_type": "code",
      "metadata": {
        "id": "vjRjEmAqFaht"
      },
      "source": [
        ""
      ],
      "execution_count": null,
      "outputs": []
    }
  ]
}