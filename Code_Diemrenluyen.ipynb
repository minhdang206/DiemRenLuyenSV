{
  "nbformat": 4,
  "nbformat_minor": 0,
  "metadata": {
    "colab": {
      "name": "Code_Diemrenluyen.ipynb",
      "provenance": [],
      "collapsed_sections": [],
      "toc_visible": true,
      "authorship_tag": "ABX9TyM1AWlius4KSc+kfBFSjmeZ",
      "include_colab_link": true
    },
    "kernelspec": {
      "name": "python3",
      "display_name": "Python 3"
    },
    "language_info": {
      "name": "python"
    }
  },
  "cells": [
    {
      "cell_type": "markdown",
      "metadata": {
        "id": "view-in-github",
        "colab_type": "text"
      },
      "source": [
        "<a href=\"https://colab.research.google.com/github/minhdang206/DiemRenLuyenSV/blob/main/Code_Diemrenluyen.ipynb\" target=\"_parent\"><img src=\"https://colab.research.google.com/assets/colab-badge.svg\" alt=\"Open In Colab\"/></a>"
      ]
    },
    {
      "cell_type": "code",
      "metadata": {
        "id": "R-n75Y0R-m_6"
      },
      "source": [
        "!pip install gspread --upgrade\n",
        "from IPython.display import clear_output \n",
        "clear_output()\n",
        "# Chạy dòng này sẽ xuất hiện 1 link --> Click vào link đó để cấp quyền truy cập vào GG Drive \n",
        "# --> Copy đường link cấp quyền và dán vào ô phía dưới + Nhấn Enter \n",
        "from google.colab import auth\n",
        "auth.authenticate_user()\n",
        "import gspread\n",
        "from oauth2client.client import GoogleCredentials\n",
        "gc = gspread.authorize(GoogleCredentials.get_application_default())"
      ],
      "execution_count": null,
      "outputs": []
    },
    {
      "cell_type": "code",
      "metadata": {
        "id": "fSh7ON46-sQX"
      },
      "source": [
        "#Import package pandas để xử lí dữ liệu\n",
        "import pandas as pd\n"
      ],
      "execution_count": null,
      "outputs": []
    },
    {
      "cell_type": "code",
      "metadata": {
        "id": "sHBocYww-ugh"
      },
      "source": [
        "#Add link gg sheet tại dòng này, hãy nhớ mở chế độ chia sẻ cho bất kì ai có liên kết.\n",
        "wb = gc.open_by_url('https://docs.google.com/spreadsheets/d/18KIP2rKEnL4Hc30cyDxhDc1e0nDbbiWaAE32gX7JRRw/edit?usp=sharing')\n",
        "worksheet1 = wb.worksheet('Diem tu danh gia')\n",
        "\n",
        "worksheet2 = wb.worksheet('Xet diem ren luyen')\n",
        "worksheet3 = wb.worksheet('Tong hop')\n",
        "df_sheet1 = pd.DataFrame(worksheet1.get_all_records())\n",
        "\n"
      ],
      "execution_count": 20,
      "outputs": []
    },
    {
      "cell_type": "markdown",
      "metadata": {
        "id": "aYPlTiAKGZYn"
      },
      "source": [
        "\n",
        "\n",
        "# Sheet2\n"
      ]
    },
    {
      "cell_type": "code",
      "metadata": {
        "id": "I0zPoy8Q-yHB"
      },
      "source": [
        "list_students = df_sheet1[df_sheet1.columns[1]]\n",
        "list_students_id = df_sheet1[df_sheet1.columns[2]]\n",
        "dict_fill_col_sheet2 = {}\n",
        "for name_student,id_student in zip(list_students,list_students_id):\n",
        "  list_fomula = []\n",
        "  for index in list(range(3,54)):\n",
        "    list_fomula.append(\"=if(isna((match($A\"+str(index)+\";'Diem tu danh gia'!$C$1:$AG$1;0)));\"+'''\"'''+'''\"'''+\";index('Diem tu danh gia'!$C:$AG;match(\"+\"value(\"+str(id_student)+\")\"+\";'Diem tu danh gia'!$C:$C;0);match($A\"+str(index)+\";'Diem tu danh gia'!$C$1:$AG$1;0)))\")\n",
        "  list_col_2 = []\n",
        "  for i in list_fomula:\n",
        "    list_col_2.append('')\n",
        "  list_col_1 = ['Điểm sinh viên tự đánh giá']+list_fomula\n",
        "  dict_fill_col_sheet2[name_student] = list_col_1\n",
        "  dict_fill_col_sheet2[id_student] = ['Điểm tập thể đánh giá']+list_col_2\n",
        "df_sheet2 = pd.DataFrame.from_dict(dict_fill_col_sheet2)\n",
        "list_df = df_sheet2.to_numpy().tolist()\n",
        "header = df_sheet2.columns.tolist()\n",
        "header\n",
        "dataTowrite = [header] + list_df\n",
        "worksheet2 = wb.worksheet('Xet diem ren luyen')\n",
        "worksheet2.update(\"C1\",dataTowrite,raw = False)"
      ],
      "execution_count": null,
      "outputs": []
    },
    {
      "cell_type": "markdown",
      "metadata": {
        "id": "Z170K_ooGCA-"
      },
      "source": [
        "\n",
        "\n",
        "# Sheet3\n"
      ]
    },
    {
      "cell_type": "code",
      "metadata": {
        "id": "MQHy_6JtHCLs"
      },
      "source": [
        "df_sheet2 = pd.DataFrame(worksheet2.get_all_records())\n",
        "df_sheet2.drop(df_sheet2.columns[0], axis=1,inplace=True)\n",
        "list_point = []\n",
        "for col_index in list(range(int(len(df_sheet2.columns)))):\n",
        "  if col_index%2 != 0:\n",
        "    i = df_sheet2[df_sheet2.columns[col_index]][51]\n",
        "    list_point.append(i)\n",
        "  else:\n",
        "    continue\n",
        "\n",
        "dict_fill_col = {}\n",
        "dict_fill_col['Họ và tên']=list_students\n",
        "dict_fill_col['Mã sinh viên']=list_students_id\n",
        "dict_fill_col['Điểm rèn luyện sau khi tập thể đánh giá']=list_point\n",
        "\n",
        "df_sheet3 =pd.DataFrame.from_dict(dict_fill_col)\n",
        "\n",
        "list_df = df_sheet3.to_numpy().tolist()\n",
        "header = df_sheet3.columns.tolist()\n",
        "dataTowrite = [header] + list_df\n",
        "worksheet3.update(\"A1\",dataTowrite)"
      ],
      "execution_count": 25,
      "outputs": []
    },
    {
      "cell_type": "code",
      "metadata": {
        "id": "ANDPjrHNBMXr"
      },
      "source": [
        ""
      ],
      "execution_count": null,
      "outputs": []
    },
    {
      "cell_type": "code",
      "metadata": {
        "id": "HmFpH0tcB_va"
      },
      "source": [
        ""
      ],
      "execution_count": null,
      "outputs": []
    }
  ]
}